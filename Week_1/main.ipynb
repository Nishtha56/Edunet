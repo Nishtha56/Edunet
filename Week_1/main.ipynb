{
 "cells": [
  {
   "cell_type": "code",
   "execution_count": 1,
   "id": "247c1001",
   "metadata": {},
   "outputs": [],
   "source": [
    "import pandas as pd\n",
    "from sklearn.model_selection import train_test_split\n",
    "from sklearn.preprocessing import LabelEncoder"
   ]
  },
  {
   "cell_type": "code",
   "execution_count": 2,
   "id": "46aeb575",
   "metadata": {},
   "outputs": [
    {
     "name": "stdout",
     "output_type": "stream",
     "text": [
      "Dataset Shape: (16599, 6)\n",
      "Columns: Index(['States', 'Regions', 'latitude', 'longitude', 'Dates', 'Usage'], dtype='object')\n"
     ]
    }
   ],
   "source": [
    "# Load dataset (change path if needed)\n",
    "df = pd.read_csv(\"State_Consumption.csv\")\n",
    "\n",
    "print(\"Dataset Shape:\", df.shape)\n",
    "print(\"Columns:\", df.columns)"
   ]
  },
  {
   "cell_type": "code",
   "execution_count": 3,
   "id": "18f2fd54",
   "metadata": {},
   "outputs": [],
   "source": [
    "# Encode categorical columns (States, Regions)\n",
    "label_encoders = {}\n",
    "for col in ['States', 'Regions']:\n",
    "    if col in df.columns:\n",
    "        le = LabelEncoder()\n",
    "        df[col] = le.fit_transform(df[col].astype(str))\n",
    "        label_encoders[col] = le"
   ]
  },
  {
   "cell_type": "code",
   "execution_count": 4,
   "id": "6a400041",
   "metadata": {},
   "outputs": [],
   "source": [
    "# Drop unnecessary columns if present (like Dates, latitude, longitude)\n",
    "features = [c for c in df.columns if c not in [\"Usage\", \"Dates\"]]\n",
    "X = df[features]\n",
    "y = df[\"Usage\"]\n",
    "\n",
    "# Train-test split\n",
    "X_train, X_test, y_train, y_test = train_test_split(\n",
    "    X, y, test_size=0.2, random_state=42\n",
    ")"
   ]
  },
  {
   "cell_type": "code",
   "execution_count": 5,
   "id": "d3413d7f",
   "metadata": {},
   "outputs": [
    {
     "name": "stdout",
     "output_type": "stream",
     "text": [
      "Training set size: (13279, 4)\n",
      "Test set size: (3320, 4)\n"
     ]
    }
   ],
   "source": [
    "\n",
    "print(\"Training set size:\", X_train.shape)\n",
    "print(\"Test set size:\", X_test.shape)"
   ]
  }
 ],
 "metadata": {
  "kernelspec": {
   "display_name": "Python 3",
   "language": "python",
   "name": "python3"
  },
  "language_info": {
   "codemirror_mode": {
    "name": "ipython",
    "version": 3
   },
   "file_extension": ".py",
   "mimetype": "text/x-python",
   "name": "python",
   "nbconvert_exporter": "python",
   "pygments_lexer": "ipython3",
   "version": "3.12.5"
  }
 },
 "nbformat": 4,
 "nbformat_minor": 5
}
