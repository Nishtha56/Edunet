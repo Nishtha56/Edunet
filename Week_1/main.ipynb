{
 "cells": [
  {
   "cell_type": "code",
   "execution_count": 2,
   "id": "cd015e24",
   "metadata": {},
   "outputs": [],
   "source": [
    "import numpy as np\n",
    "import pandas as pd"
   ]
  },
  {
   "cell_type": "code",
   "execution_count": 3,
   "id": "61489a1e",
   "metadata": {},
   "outputs": [
    {
     "name": "stdout",
     "output_type": "stream",
     "text": [
      "Market Resercher excel file successfully loaded\n"
     ]
    }
   ],
   "source": [
    "file_path=\"Market_Resercher_excel.xlsx\"\n",
    "data=pd.read_excel(file_path, sheet_name='market_researcher_dataset')\n",
    "print(\"Market Resercher excel file successfully loaded\")"
   ]
  },
  {
   "cell_type": "code",
   "execution_count": 4,
   "id": "0590a41e",
   "metadata": {},
   "outputs": [
    {
     "name": "stdout",
     "output_type": "stream",
     "text": [
      "<class 'pandas.core.frame.DataFrame'>\n",
      "RangeIndex: 10000 entries, 0 to 9999\n",
      "Data columns (total 10 columns):\n",
      " #   Column                    Non-Null Count  Dtype  \n",
      "---  ------                    --------------  -----  \n",
      " 0   Market_ID                 10000 non-null  int64  \n",
      " 1   Product                   10000 non-null  object \n",
      " 2   Market_Price_per_ton      10000 non-null  float64\n",
      " 3   Demand_Index              10000 non-null  float64\n",
      " 4   Supply_Index              10000 non-null  float64\n",
      " 5   Competitor_Price_per_ton  10000 non-null  float64\n",
      " 6   Economic_Indicator        10000 non-null  float64\n",
      " 7   Weather_Impact_Score      10000 non-null  float64\n",
      " 8   Seasonal_Factor           10000 non-null  object \n",
      " 9   Consumer_Trend_Index      10000 non-null  float64\n",
      "dtypes: float64(7), int64(1), object(2)\n",
      "memory usage: 781.4+ KB\n"
     ]
    }
   ],
   "source": [
    "data.info()"
   ]
  },
  {
   "cell_type": "code",
   "execution_count": 5,
   "id": "f3408e0b",
   "metadata": {},
   "outputs": [
    {
     "data": {
      "text/html": [
       "<div>\n",
       "<style scoped>\n",
       "    .dataframe tbody tr th:only-of-type {\n",
       "        vertical-align: middle;\n",
       "    }\n",
       "\n",
       "    .dataframe tbody tr th {\n",
       "        vertical-align: top;\n",
       "    }\n",
       "\n",
       "    .dataframe thead th {\n",
       "        text-align: right;\n",
       "    }\n",
       "</style>\n",
       "<table border=\"1\" class=\"dataframe\">\n",
       "  <thead>\n",
       "    <tr style=\"text-align: right;\">\n",
       "      <th></th>\n",
       "      <th>Market_ID</th>\n",
       "      <th>Market_Price_per_ton</th>\n",
       "      <th>Demand_Index</th>\n",
       "      <th>Supply_Index</th>\n",
       "      <th>Competitor_Price_per_ton</th>\n",
       "      <th>Economic_Indicator</th>\n",
       "      <th>Weather_Impact_Score</th>\n",
       "      <th>Consumer_Trend_Index</th>\n",
       "    </tr>\n",
       "  </thead>\n",
       "  <tbody>\n",
       "    <tr>\n",
       "      <th>count</th>\n",
       "      <td>10000.00000</td>\n",
       "      <td>10000.000000</td>\n",
       "      <td>10000.000000</td>\n",
       "      <td>10000.000000</td>\n",
       "      <td>10000.000000</td>\n",
       "      <td>10000.000000</td>\n",
       "      <td>10000.000000</td>\n",
       "      <td>10000.000000</td>\n",
       "    </tr>\n",
       "    <tr>\n",
       "      <th>mean</th>\n",
       "      <td>5000.50000</td>\n",
       "      <td>299.645429</td>\n",
       "      <td>125.098668</td>\n",
       "      <td>125.138915</td>\n",
       "      <td>300.811000</td>\n",
       "      <td>1.003514</td>\n",
       "      <td>50.429491</td>\n",
       "      <td>99.577175</td>\n",
       "    </tr>\n",
       "    <tr>\n",
       "      <th>std</th>\n",
       "      <td>2886.89568</td>\n",
       "      <td>115.827248</td>\n",
       "      <td>43.296358</td>\n",
       "      <td>43.054411</td>\n",
       "      <td>115.529938</td>\n",
       "      <td>0.291315</td>\n",
       "      <td>29.086479</td>\n",
       "      <td>28.849323</td>\n",
       "    </tr>\n",
       "    <tr>\n",
       "      <th>min</th>\n",
       "      <td>1.00000</td>\n",
       "      <td>100.037672</td>\n",
       "      <td>50.025587</td>\n",
       "      <td>50.024338</td>\n",
       "      <td>100.056917</td>\n",
       "      <td>0.500231</td>\n",
       "      <td>0.037550</td>\n",
       "      <td>50.005314</td>\n",
       "    </tr>\n",
       "    <tr>\n",
       "      <th>25%</th>\n",
       "      <td>2500.75000</td>\n",
       "      <td>198.417882</td>\n",
       "      <td>87.542376</td>\n",
       "      <td>88.114813</td>\n",
       "      <td>201.020246</td>\n",
       "      <td>0.751027</td>\n",
       "      <td>25.089886</td>\n",
       "      <td>74.534404</td>\n",
       "    </tr>\n",
       "    <tr>\n",
       "      <th>50%</th>\n",
       "      <td>5000.50000</td>\n",
       "      <td>300.389982</td>\n",
       "      <td>124.346307</td>\n",
       "      <td>124.742839</td>\n",
       "      <td>302.366876</td>\n",
       "      <td>1.008187</td>\n",
       "      <td>50.642166</td>\n",
       "      <td>99.456034</td>\n",
       "    </tr>\n",
       "    <tr>\n",
       "      <th>75%</th>\n",
       "      <td>7500.25000</td>\n",
       "      <td>399.950988</td>\n",
       "      <td>162.314041</td>\n",
       "      <td>161.833722</td>\n",
       "      <td>401.918023</td>\n",
       "      <td>1.256631</td>\n",
       "      <td>75.547328</td>\n",
       "      <td>124.758656</td>\n",
       "    </tr>\n",
       "    <tr>\n",
       "      <th>max</th>\n",
       "      <td>10000.00000</td>\n",
       "      <td>499.999056</td>\n",
       "      <td>199.997449</td>\n",
       "      <td>199.991317</td>\n",
       "      <td>499.916582</td>\n",
       "      <td>1.499887</td>\n",
       "      <td>99.999365</td>\n",
       "      <td>149.997429</td>\n",
       "    </tr>\n",
       "  </tbody>\n",
       "</table>\n",
       "</div>"
      ],
      "text/plain": [
       "         Market_ID  Market_Price_per_ton  Demand_Index  Supply_Index  \\\n",
       "count  10000.00000          10000.000000  10000.000000  10000.000000   \n",
       "mean    5000.50000            299.645429    125.098668    125.138915   \n",
       "std     2886.89568            115.827248     43.296358     43.054411   \n",
       "min        1.00000            100.037672     50.025587     50.024338   \n",
       "25%     2500.75000            198.417882     87.542376     88.114813   \n",
       "50%     5000.50000            300.389982    124.346307    124.742839   \n",
       "75%     7500.25000            399.950988    162.314041    161.833722   \n",
       "max    10000.00000            499.999056    199.997449    199.991317   \n",
       "\n",
       "       Competitor_Price_per_ton  Economic_Indicator  Weather_Impact_Score  \\\n",
       "count              10000.000000        10000.000000          10000.000000   \n",
       "mean                 300.811000            1.003514             50.429491   \n",
       "std                  115.529938            0.291315             29.086479   \n",
       "min                  100.056917            0.500231              0.037550   \n",
       "25%                  201.020246            0.751027             25.089886   \n",
       "50%                  302.366876            1.008187             50.642166   \n",
       "75%                  401.918023            1.256631             75.547328   \n",
       "max                  499.916582            1.499887             99.999365   \n",
       "\n",
       "       Consumer_Trend_Index  \n",
       "count          10000.000000  \n",
       "mean              99.577175  \n",
       "std               28.849323  \n",
       "min               50.005314  \n",
       "25%               74.534404  \n",
       "50%               99.456034  \n",
       "75%              124.758656  \n",
       "max              149.997429  "
      ]
     },
     "execution_count": 5,
     "metadata": {},
     "output_type": "execute_result"
    }
   ],
   "source": [
    "data.describe()"
   ]
  },
  {
   "cell_type": "code",
   "execution_count": 6,
   "id": "0b1a1a2a",
   "metadata": {},
   "outputs": [
    {
     "name": "stdout",
     "output_type": "stream",
     "text": [
      "Total null values: \n",
      " Market_ID                   0\n",
      "Product                     0\n",
      "Market_Price_per_ton        0\n",
      "Demand_Index                0\n",
      "Supply_Index                0\n",
      "Competitor_Price_per_ton    0\n",
      "Economic_Indicator          0\n",
      "Weather_Impact_Score        0\n",
      "Seasonal_Factor             0\n",
      "Consumer_Trend_Index        0\n",
      "dtype: int64\n"
     ]
    }
   ],
   "source": [
    "print(\"Total null values: \\n\",data.isnull().sum())"
   ]
  }
 ],
 "metadata": {
  "kernelspec": {
   "display_name": "Python 3",
   "language": "python",
   "name": "python3"
  },
  "language_info": {
   "codemirror_mode": {
    "name": "ipython",
    "version": 3
   },
   "file_extension": ".py",
   "mimetype": "text/x-python",
   "name": "python",
   "nbconvert_exporter": "python",
   "pygments_lexer": "ipython3",
   "version": "3.12.5"
  }
 },
 "nbformat": 4,
 "nbformat_minor": 5
}
